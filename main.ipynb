{
 "cells": [
  {
   "cell_type": "code",
   "execution_count": 2,
   "id": "c6e1b5dc-c16e-4869-952a-9c164062b36f",
   "metadata": {
    "tags": []
   },
   "outputs": [
    {
     "name": "stdout",
     "output_type": "stream",
     "text": [
      "Downloading: 100%|\u001b[32m██████████\u001b[0m|\n",
      "\n",
      "KNN Accuracy: 0.9098966026587888\n",
      "\n",
      "Classification Report:\n",
      "               precision    recall  f1-score   support\n",
      "\n",
      "           0       0.89      0.94      0.92      2123\n",
      "           1       0.93      0.88      0.90      1939\n",
      "\n",
      "    accuracy                           0.91      4062\n",
      "   macro avg       0.91      0.91      0.91      4062\n",
      "weighted avg       0.91      0.91      0.91      4062\n",
      "\n"
     ]
    }
   ],
   "source": [
    "import pandas as pd\n",
    "import pandas_gbq as pdq\n",
    "from sklearn.neighbors import KNeighborsClassifier\n",
    "from sklearn.preprocessing import LabelEncoder\n",
    "from sklearn.model_selection import train_test_split\n",
    "from sklearn.metrics import accuracy_score,classification_report\n",
    "\n",
    "sql = \"SELECT * FROM `cloud-midterm-ml.MidtermMLDataset.maintable`\"\n",
    "mushroomData = pdq.read_gbq(sql)\n",
    "\n",
    "selectedCols = ['class','bruises','gill-attachment','gill-spacing','gill-size','stalk-shape']\n",
    "labelEncoder = LabelEncoder()\n",
    "for col in selectedCols:\n",
    "    mushroomData[col] = labelEncoder.fit_transform(mushroomData[col])\n",
    "\n",
    "X = mushroomData[['bruises', 'gill-attachment', 'gill-spacing', 'gill-size', 'stalk-shape']]\n",
    "y = mushroomData['class']\n",
    "x_train, x_test, y_train, y_test = train_test_split(X, y, test_size=0.5, random_state=42)\n",
    "\n",
    "knn = KNeighborsClassifier(n_neighbors=3)\n",
    "knn.fit(x_train, y_train)\n",
    "\n",
    "y_pred = knn.predict(x_test)\n",
    "\n",
    "print(\"\\nKNN Accuracy:\", accuracy_score(y_test, y_pred))\n",
    "print(\"\\nClassification Report:\\n\", classification_report(y_test, y_pred))"
   ]
  },
  {
   "cell_type": "code",
   "execution_count": null,
   "id": "a7f0487f-5386-48eb-b48f-c019f6838485",
   "metadata": {
    "tags": []
   },
   "outputs": [],
   "source": [
    "# bruises = int(input())\n",
    "gillA = int(input())\n",
    "gillSP = int(input())\n",
    "gillSZ = int(input()) \n",
    "stalk = int(input())\n",
    "\n",
    "mushroomInput = pd.DataFrame({'bruises':[bruises],'gill-attachment':[gillA],'gill-spacing':[gillSP],\n",
    "                             'gill-size':[gillSZ],'stalk-shape':[stalk]})\n",
    "\n",
    "pred = knn.predict(mushroomInput)\n",
    "\n",
    "if pred == 0:\n",
    "    print(\"Poisonous\")\n",
    "else:\n",
    "    print(\"Edible\")"
   ]
  },
  {
   "cell_type": "code",
   "execution_count": null,
   "id": "f31fae19-b7b3-4706-8fb8-daccf260f8ec",
   "metadata": {},
   "outputs": [],
   "source": []
  }
 ],
 "metadata": {
  "environment": {
   "kernel": "conda-base-py",
   "name": "workbench-notebooks.m129",
   "type": "gcloud",
   "uri": "us-docker.pkg.dev/deeplearning-platform-release/gcr.io/workbench-notebooks:m129"
  },
  "kernelspec": {
   "display_name": "Python 3 (ipykernel)",
   "language": "python",
   "name": "conda-base-py"
  },
  "language_info": {
   "codemirror_mode": {
    "name": "ipython",
    "version": 3
   },
   "file_extension": ".py",
   "mimetype": "text/x-python",
   "name": "python",
   "nbconvert_exporter": "python",
   "pygments_lexer": "ipython3",
   "version": "3.10.16"
  }
 },
 "nbformat": 4,
 "nbformat_minor": 5
}
