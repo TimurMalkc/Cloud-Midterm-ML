{
 "cells": [
  {
   "cell_type": "code",
   "execution_count": 2,
   "id": "c6e1b5dc-c16e-4869-952a-9c164062b36f",
   "metadata": {
    "tags": []
   },
   "outputs": [
    {
     "name": "stdout",
     "output_type": "stream",
     "text": [
      "Downloading: 100%|\u001b[32m██████████\u001b[0m|\n",
      "\n",
      "KNN Accuracy: 0.9098966026587888\n",
      "\n",
      "Classification Report:\n",
      "               precision    recall  f1-score   support\n",
      "\n",
      "           0       0.89      0.94      0.92      2123\n",
      "           1       0.93      0.88      0.90      1939\n",
      "\n",
      "    accuracy                           0.91      4062\n",
      "   macro avg       0.91      0.91      0.91      4062\n",
      "weighted avg       0.91      0.91      0.91      4062\n",
      "\n"
     ]
    }
   ],
   "source": [
    "import pandas as pd\n",
    "import pandas_gbq as pdq\n",
    "from sklearn.neighbors import KNeighborsClassifier\n",
    "from sklearn.feature_extraction import FeatureHasher\n",
    "from sklearn.preprocessing import LabelEncoder,OneHotEncoder\n",
    "from sklearn.preprocessing import Binarizer\n",
    "from sklearn.model_selection import train_test_split\n",
    "from sklearn.metrics import accuracy_score,classification_report\n",
    "\n",
    "sql = \"SELECT * FROM `cloud-midterm-ml.MidtermMLDataset.maintable`\"\n",
    "mushroomdata = pdq.read_gbq(sql)\n",
    "\n",
    "colum_to_encode=['class','bruises','gill-attachment','gill-spacing','gill-size','stalk-shape']\n",
    "labelencoder=LabelEncoder()\n",
    "for col in colum_to_encode:\n",
    "    mushroomdata[col]=labelencoder.fit_transform(mushroomdata[col])\n",
    "\n",
    "X = mushroomdata[['bruises', 'gill-attachment', 'gill-spacing', 'gill-size', 'stalk-shape']]\n",
    "y = mushroomdata['class']\n",
    "\n",
    "x_train,x_test,y_train,y_test=train_test_split(X,y,test_size=0.5,random_state=42)\n",
    "\n",
    "knn = KNeighborsClassifier(n_neighbors=3)\n",
    "knn.fit(x_train, y_train)\n",
    "\n",
    "y_pred = knn.predict(x_test)\n",
    "\n",
    "print(\"\\nKNN Accuracy:\", accuracy_score(y_test, y_pred))\n",
    "print(\"\\nClassification Report:\\n\", classification_report(y_test, y_pred))"
   ]
  },
  {
   "cell_type": "code",
   "execution_count": 5,
   "id": "ee763dde-d61b-4fc7-a64f-5d8bbf0a2454",
   "metadata": {
    "tags": []
   },
   "outputs": [
    {
     "name": "stdin",
     "output_type": "stream",
     "text": [
      " 1\n",
      " 0\n",
      " 0\n",
      " 1\n",
      " 1\n"
     ]
    },
    {
     "name": "stdout",
     "output_type": "stream",
     "text": [
      "Edible\n"
     ]
    }
   ],
   "source": [
    "bruises = int(input())\n",
    "gillA = int(input())\n",
    "gillSP = int(input())\n",
    "gillSZ = int(input()) \n",
    "stalk = int(input())\n",
    "\n",
    "mushroomInput = pd.DataFrame({'bruises':[bruises],'gill-attachment':[gillA],'gill-spacing':[gillSP],\n",
    "                             'gill-size':[gillSZ],'stalk-shape':[stalk]})\n",
    "\n",
    "pred = knn.predict(mushroomInput)\n",
    "\n",
    "if pred == 0:\n",
    "    print(\"Poisonous\")\n",
    "else:\n",
    "    print(\"Edible\")"
   ]
  },
  {
   "cell_type": "code",
   "execution_count": null,
   "id": "f31fae19-b7b3-4706-8fb8-daccf260f8ec",
   "metadata": {},
   "outputs": [],
   "source": []
  }
 ],
 "metadata": {
  "environment": {
   "kernel": "conda-base-py",
   "name": "workbench-notebooks.m129",
   "type": "gcloud",
   "uri": "us-docker.pkg.dev/deeplearning-platform-release/gcr.io/workbench-notebooks:m129"
  },
  "kernelspec": {
   "display_name": "Python 3 (ipykernel)",
   "language": "python",
   "name": "conda-base-py"
  },
  "language_info": {
   "codemirror_mode": {
    "name": "ipython",
    "version": 3
   },
   "file_extension": ".py",
   "mimetype": "text/x-python",
   "name": "python",
   "nbconvert_exporter": "python",
   "pygments_lexer": "ipython3",
   "version": "3.10.16"
  }
 },
 "nbformat": 4,
 "nbformat_minor": 5
}
